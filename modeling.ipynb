{
 "cells": [
  {
   "cell_type": "code",
   "execution_count": 37,
   "metadata": {},
   "outputs": [
    {
     "name": "stderr",
     "output_type": "stream",
     "text": [
      "[nltk_data] Downloading package punkt to C:\\Users\\Brianna\n",
      "[nltk_data]     Lytle\\AppData\\Roaming\\nltk_data...\n",
      "[nltk_data]   Package punkt is already up-to-date!\n"
     ]
    }
   ],
   "source": [
    "import pandas as pd\n",
    "import numpy as np\n",
    "import matplotlib.pyplot as plt\n",
    "import seaborn as sns\n",
    "import regex as re\n",
    "from nltk.tokenize import word_tokenize\n",
    "from sklearn.pipeline import Pipeline\n",
    "from sklearn.model_selection import train_test_split, GridSearchCV, cross_val_score\n",
    "from sklearn.linear_model import LogisticRegression\n",
    "from sklearn.feature_extraction.text import CountVectorizer, ENGLISH_STOP_WORDS, TfidfVectorizer\n",
    "from sklearn.metrics import roc_auc_score, confusion_matrix, roc_curve\n",
    "from sklearn.base import TransformerMixin, BaseEstimator\n",
    "from sklearn.neighbors import KNeighborsClassifier\n",
    "from nltk.sentiment.vader import SentimentIntensityAnalyzer\n",
    "from sklearn.naive_bayes import MultinomialNB\n",
    "from sklearn.preprocessing import StandardScaler\n",
    "from sklearn.ensemble import RandomForestClassifier, ExtraTreesClassifier\n",
    "from sklearn.feature_selection import chi2\n",
    "from sklearn.ensemble import GradientBoostingClassifier, AdaBoostClassifier, VotingClassifier\n",
    "from sklearn.tree import DecisionTreeClassifier\n",
    "\n",
    "\n",
    "import nltk\n",
    "nltk.download('punkt')\n",
    "\n",
    "%matplotlib inline"
   ]
  },
  {
   "cell_type": "markdown",
   "metadata": {},
   "source": [
    "# IMPORT DATA FRAMES"
   ]
  },
  {
   "cell_type": "code",
   "execution_count": 38,
   "metadata": {},
   "outputs": [],
   "source": [
    "college = pd.read_csv('./data/college_oct14')\n",
    "grad_school = pd.read_csv('./data/grad_school_oct14')"
   ]
  },
  {
   "cell_type": "code",
   "execution_count": 39,
   "metadata": {},
   "outputs": [],
   "source": [
    "#replacing all nan values with a space\n",
    "college = college.replace(np.nan, \" \")\n",
    "grad_school = grad_school.replace(np.nan, \" \")"
   ]
  },
  {
   "cell_type": "code",
   "execution_count": 40,
   "metadata": {},
   "outputs": [],
   "source": [
    "#appending dataframes on top of eachother\n",
    "c_gs = college.append(grad_school)"
   ]
  },
  {
   "cell_type": "code",
   "execution_count": 41,
   "metadata": {},
   "outputs": [],
   "source": [
    "#combining all text of title and body into one column\n",
    "c_gs['all_text'] = c_gs['title'] + ' ' + c_gs['body']\n",
    "c_gs = c_gs.drop(['title', 'body'], axis = 1)\n",
    "c_gs = c_gs.reset_index(drop=True)"
   ]
  },
  {
   "cell_type": "code",
   "execution_count": 42,
   "metadata": {},
   "outputs": [
    {
     "data": {
      "text/html": [
       "<div>\n",
       "<style scoped>\n",
       "    .dataframe tbody tr th:only-of-type {\n",
       "        vertical-align: middle;\n",
       "    }\n",
       "\n",
       "    .dataframe tbody tr th {\n",
       "        vertical-align: top;\n",
       "    }\n",
       "\n",
       "    .dataframe thead th {\n",
       "        text-align: right;\n",
       "    }\n",
       "</style>\n",
       "<table border=\"1\" class=\"dataframe\">\n",
       "  <thead>\n",
       "    <tr style=\"text-align: right;\">\n",
       "      <th></th>\n",
       "      <th>num_comments</th>\n",
       "      <th>up_votes</th>\n",
       "      <th>age</th>\n",
       "      <th>subreddit</th>\n",
       "      <th>all_text</th>\n",
       "    </tr>\n",
       "  </thead>\n",
       "  <tbody>\n",
       "    <tr>\n",
       "      <td>0</td>\n",
       "      <td>435</td>\n",
       "      <td>88</td>\n",
       "      <td>47.065377</td>\n",
       "      <td>college</td>\n",
       "      <td>FAFSAfinancial aid verification questions Get ...</td>\n",
       "    </tr>\n",
       "    <tr>\n",
       "      <td>1</td>\n",
       "      <td>1</td>\n",
       "      <td>2</td>\n",
       "      <td>0.006776</td>\n",
       "      <td>college</td>\n",
       "      <td>Failed my midterm I failed my midterm and I wa...</td>\n",
       "    </tr>\n",
       "    <tr>\n",
       "      <td>2</td>\n",
       "      <td>1</td>\n",
       "      <td>1</td>\n",
       "      <td>0.008998</td>\n",
       "      <td>college</td>\n",
       "      <td>Professor gives butt load of homework but is o...</td>\n",
       "    </tr>\n",
       "    <tr>\n",
       "      <td>3</td>\n",
       "      <td>0</td>\n",
       "      <td>1</td>\n",
       "      <td>0.013535</td>\n",
       "      <td>college</td>\n",
       "      <td>Does a GPA round up My girlfriend is graduatin...</td>\n",
       "    </tr>\n",
       "    <tr>\n",
       "      <td>4</td>\n",
       "      <td>0</td>\n",
       "      <td>1</td>\n",
       "      <td>0.017274</td>\n",
       "      <td>college</td>\n",
       "      <td>Should I take CALC II Im a freshman Biochem Ma...</td>\n",
       "    </tr>\n",
       "  </tbody>\n",
       "</table>\n",
       "</div>"
      ],
      "text/plain": [
       "   num_comments  up_votes        age subreddit  \\\n",
       "0           435        88  47.065377   college   \n",
       "1             1         2   0.006776   college   \n",
       "2             1         1   0.008998   college   \n",
       "3             0         1   0.013535   college   \n",
       "4             0         1   0.017274   college   \n",
       "\n",
       "                                            all_text  \n",
       "0  FAFSAfinancial aid verification questions Get ...  \n",
       "1  Failed my midterm I failed my midterm and I wa...  \n",
       "2  Professor gives butt load of homework but is o...  \n",
       "3  Does a GPA round up My girlfriend is graduatin...  \n",
       "4  Should I take CALC II Im a freshman Biochem Ma...  "
      ]
     },
     "execution_count": 42,
     "metadata": {},
     "output_type": "execute_result"
    }
   ],
   "source": [
    "c_gs['all_text'] = c_gs['all_text'].str.replace('[^\\w\\s]','')\n",
    "c_gs.head()"
   ]
  },
  {
   "cell_type": "markdown",
   "metadata": {},
   "source": [
    "## Modeling"
   ]
  },
  {
   "cell_type": "code",
   "execution_count": 43,
   "metadata": {},
   "outputs": [
    {
     "data": {
      "text/html": [
       "<div>\n",
       "<style scoped>\n",
       "    .dataframe tbody tr th:only-of-type {\n",
       "        vertical-align: middle;\n",
       "    }\n",
       "\n",
       "    .dataframe tbody tr th {\n",
       "        vertical-align: top;\n",
       "    }\n",
       "\n",
       "    .dataframe thead th {\n",
       "        text-align: right;\n",
       "    }\n",
       "</style>\n",
       "<table border=\"1\" class=\"dataframe\">\n",
       "  <thead>\n",
       "    <tr style=\"text-align: right;\">\n",
       "      <th></th>\n",
       "      <th>num_comments</th>\n",
       "      <th>up_votes</th>\n",
       "      <th>age</th>\n",
       "      <th>subreddit</th>\n",
       "      <th>all_text</th>\n",
       "    </tr>\n",
       "  </thead>\n",
       "  <tbody>\n",
       "    <tr>\n",
       "      <td>0</td>\n",
       "      <td>435</td>\n",
       "      <td>88</td>\n",
       "      <td>47.065377</td>\n",
       "      <td>0</td>\n",
       "      <td>FAFSAfinancial aid verification questions Get ...</td>\n",
       "    </tr>\n",
       "    <tr>\n",
       "      <td>1</td>\n",
       "      <td>1</td>\n",
       "      <td>2</td>\n",
       "      <td>0.006776</td>\n",
       "      <td>0</td>\n",
       "      <td>Failed my midterm I failed my midterm and I wa...</td>\n",
       "    </tr>\n",
       "    <tr>\n",
       "      <td>2</td>\n",
       "      <td>1</td>\n",
       "      <td>1</td>\n",
       "      <td>0.008998</td>\n",
       "      <td>0</td>\n",
       "      <td>Professor gives butt load of homework but is o...</td>\n",
       "    </tr>\n",
       "    <tr>\n",
       "      <td>3</td>\n",
       "      <td>0</td>\n",
       "      <td>1</td>\n",
       "      <td>0.013535</td>\n",
       "      <td>0</td>\n",
       "      <td>Does a GPA round up My girlfriend is graduatin...</td>\n",
       "    </tr>\n",
       "    <tr>\n",
       "      <td>4</td>\n",
       "      <td>0</td>\n",
       "      <td>1</td>\n",
       "      <td>0.017274</td>\n",
       "      <td>0</td>\n",
       "      <td>Should I take CALC II Im a freshman Biochem Ma...</td>\n",
       "    </tr>\n",
       "  </tbody>\n",
       "</table>\n",
       "</div>"
      ],
      "text/plain": [
       "   num_comments  up_votes        age  subreddit  \\\n",
       "0           435        88  47.065377          0   \n",
       "1             1         2   0.006776          0   \n",
       "2             1         1   0.008998          0   \n",
       "3             0         1   0.013535          0   \n",
       "4             0         1   0.017274          0   \n",
       "\n",
       "                                            all_text  \n",
       "0  FAFSAfinancial aid verification questions Get ...  \n",
       "1  Failed my midterm I failed my midterm and I wa...  \n",
       "2  Professor gives butt load of homework but is o...  \n",
       "3  Does a GPA round up My girlfriend is graduatin...  \n",
       "4  Should I take CALC II Im a freshman Biochem Ma...  "
      ]
     },
     "execution_count": 43,
     "metadata": {},
     "output_type": "execute_result"
    }
   ],
   "source": [
    "#map, change the labels of Subreddit \n",
    "#grad_school = 1, college = 0\n",
    "c_gs['subreddit'] = c_gs['subreddit'].map({'college': 0, 'GradSchool' : 1})\n",
    "c_gs.head()"
   ]
  },
  {
   "cell_type": "code",
   "execution_count": 44,
   "metadata": {},
   "outputs": [],
   "source": [
    "c_gs['tokenized_text'] = c_gs['all_text'].apply(word_tokenize)"
   ]
  },
  {
   "cell_type": "code",
   "execution_count": 45,
   "metadata": {},
   "outputs": [
    {
     "data": {
      "text/plain": [
       "0       [FAFSAfinancial, aid, verification, questions,...\n",
       "1       [Failed, my, midterm, I, failed, my, midterm, ...\n",
       "2       [Professor, gives, butt, load, of, homework, b...\n",
       "3       [Does, a, GPA, round, up, My, girlfriend, is, ...\n",
       "4       [Should, I, take, CALC, II, Im, a, freshman, B...\n",
       "                              ...                        \n",
       "6624    [Cheap, graduate, schools, for, Economics, Eve...\n",
       "6625    [Depressing, six, weeks, in, PhD, Hi, all, I, ...\n",
       "6626    [Help, Im, eating, like, crap, x200B, Im, work...\n",
       "6627    [3rd, year, and, I, just, need, to, rant, Im, ...\n",
       "6628    [How, to, rereviewe, a, revised, and, resubmit...\n",
       "Name: tokenized_text, Length: 6629, dtype: object"
      ]
     },
     "execution_count": 45,
     "metadata": {},
     "output_type": "execute_result"
    }
   ],
   "source": [
    "c_gs['tokenized_text']"
   ]
  },
  {
   "cell_type": "code",
   "execution_count": 46,
   "metadata": {},
   "outputs": [],
   "source": [
    "pd.set_option('display.max_rows', 500)"
   ]
  },
  {
   "cell_type": "code",
   "execution_count": 47,
   "metadata": {},
   "outputs": [],
   "source": [
    "eda_words = list(ENGLISH_STOP_WORDS)\n",
    "eda_words+=['im', 'grad', 'school', 'id', 'ive', 'college', 'phd', 'masters', 'just', 'like']"
   ]
  },
  {
   "cell_type": "code",
   "execution_count": 48,
   "metadata": {
    "scrolled": true
   },
   "outputs": [
    {
     "data": {
      "text/plain": [
       "i           38059\n",
       "to          30230\n",
       "the         24488\n",
       "a           23916\n",
       "and         23907\n",
       "my          16907\n",
       "in          15109\n",
       "of          14767\n",
       "for         10420\n",
       "that        10007\n",
       "is           9733\n",
       "it           9131\n",
       "have         7738\n",
       "im           7634\n",
       "this         7543\n",
       "you          7360\n",
       "but          6921\n",
       "with         6324\n",
       "me           6142\n",
       "on           6103\n",
       "be           5421\n",
       "do           5341\n",
       "so           5175\n",
       "not          5125\n",
       "was          4898\n",
       "or           4525\n",
       "if           4461\n",
       "at           4410\n",
       "just         4358\n",
       "school       4106\n",
       "what         4053\n",
       "as           4043\n",
       "like         3959\n",
       "are          3909\n",
       "about        3678\n",
       "am           3648\n",
       "an           3475\n",
       "get          3426\n",
       "dont         3285\n",
       "how          3235\n",
       "all          3040\n",
       "out          3013\n",
       "would        2969\n",
       "college      2835\n",
       "time         2826\n",
       "from         2807\n",
       "your         2744\n",
       "know         2726\n",
       "can          2716\n",
       "its          2551\n",
       "they         2499\n",
       "up           2483\n",
       "want         2420\n",
       "work         2366\n",
       "one          2366\n",
       "any          2353\n",
       "will         2353\n",
       "really       2316\n",
       "some         2299\n",
       "year         2290\n",
       "ive          2281\n",
       "because      2219\n",
       "feel         2161\n",
       "been         2077\n",
       "he           2059\n",
       "grad         2034\n",
       "had          1997\n",
       "more         1983\n",
       "go           1980\n",
       "when         1942\n",
       "class        1892\n",
       "people       1868\n",
       "there        1859\n",
       "now          1834\n",
       "phd          1809\n",
       "into         1792\n",
       "going        1792\n",
       "has          1786\n",
       "should       1694\n",
       "no           1691\n",
       "even         1660\n",
       "also         1618\n",
       "research     1603\n",
       "program      1588\n",
       "first        1585\n",
       "who          1551\n",
       "student      1545\n",
       "good         1518\n",
       "much         1511\n",
       "other        1509\n",
       "students     1481\n",
       "we           1465\n",
       "them         1444\n",
       "by           1412\n",
       "take         1387\n",
       "years        1353\n",
       "think        1349\n",
       "got          1341\n",
       "which        1328\n",
       "only         1326\n",
       "dtype: int64"
      ]
     },
     "execution_count": 48,
     "metadata": {},
     "output_type": "execute_result"
    }
   ],
   "source": [
    " pd.Series(' '.join(c_gs['all_text']).lower().split()).value_counts()[:100]"
   ]
  },
  {
   "cell_type": "code",
   "execution_count": 49,
   "metadata": {
    "scrolled": false
   },
   "outputs": [
    {
     "data": {
      "text/html": [
       "<div>\n",
       "<style scoped>\n",
       "    .dataframe tbody tr th:only-of-type {\n",
       "        vertical-align: middle;\n",
       "    }\n",
       "\n",
       "    .dataframe tbody tr th {\n",
       "        vertical-align: top;\n",
       "    }\n",
       "\n",
       "    .dataframe thead th {\n",
       "        text-align: right;\n",
       "    }\n",
       "</style>\n",
       "<table border=\"1\" class=\"dataframe\">\n",
       "  <thead>\n",
       "    <tr style=\"text-align: right;\">\n",
       "      <th></th>\n",
       "      <th>num_comments</th>\n",
       "      <th>up_votes</th>\n",
       "      <th>age</th>\n",
       "      <th>subreddit</th>\n",
       "      <th>all_text</th>\n",
       "      <th>tokenized_text</th>\n",
       "    </tr>\n",
       "  </thead>\n",
       "  <tbody>\n",
       "    <tr>\n",
       "      <td>0</td>\n",
       "      <td>435</td>\n",
       "      <td>88</td>\n",
       "      <td>47.065377</td>\n",
       "      <td>0</td>\n",
       "      <td>FAFSAfinancial aid verification questions Get ...</td>\n",
       "      <td>[FAFSAfinancial, aid, verification, questions,...</td>\n",
       "    </tr>\n",
       "    <tr>\n",
       "      <td>1</td>\n",
       "      <td>1</td>\n",
       "      <td>2</td>\n",
       "      <td>0.006776</td>\n",
       "      <td>0</td>\n",
       "      <td>Failed my midterm I failed my midterm and I wa...</td>\n",
       "      <td>[Failed, my, midterm, I, failed, my, midterm, ...</td>\n",
       "    </tr>\n",
       "    <tr>\n",
       "      <td>2</td>\n",
       "      <td>1</td>\n",
       "      <td>1</td>\n",
       "      <td>0.008998</td>\n",
       "      <td>0</td>\n",
       "      <td>Professor gives butt load of homework but is o...</td>\n",
       "      <td>[Professor, gives, butt, load, of, homework, b...</td>\n",
       "    </tr>\n",
       "    <tr>\n",
       "      <td>3</td>\n",
       "      <td>0</td>\n",
       "      <td>1</td>\n",
       "      <td>0.013535</td>\n",
       "      <td>0</td>\n",
       "      <td>Does a GPA round up My girlfriend is graduatin...</td>\n",
       "      <td>[Does, a, GPA, round, up, My, girlfriend, is, ...</td>\n",
       "    </tr>\n",
       "    <tr>\n",
       "      <td>4</td>\n",
       "      <td>0</td>\n",
       "      <td>1</td>\n",
       "      <td>0.017274</td>\n",
       "      <td>0</td>\n",
       "      <td>Should I take CALC II Im a freshman Biochem Ma...</td>\n",
       "      <td>[Should, I, take, CALC, II, Im, a, freshman, B...</td>\n",
       "    </tr>\n",
       "  </tbody>\n",
       "</table>\n",
       "</div>"
      ],
      "text/plain": [
       "   num_comments  up_votes        age  subreddit  \\\n",
       "0           435        88  47.065377          0   \n",
       "1             1         2   0.006776          0   \n",
       "2             1         1   0.008998          0   \n",
       "3             0         1   0.013535          0   \n",
       "4             0         1   0.017274          0   \n",
       "\n",
       "                                            all_text  \\\n",
       "0  FAFSAfinancial aid verification questions Get ...   \n",
       "1  Failed my midterm I failed my midterm and I wa...   \n",
       "2  Professor gives butt load of homework but is o...   \n",
       "3  Does a GPA round up My girlfriend is graduatin...   \n",
       "4  Should I take CALC II Im a freshman Biochem Ma...   \n",
       "\n",
       "                                      tokenized_text  \n",
       "0  [FAFSAfinancial, aid, verification, questions,...  \n",
       "1  [Failed, my, midterm, I, failed, my, midterm, ...  \n",
       "2  [Professor, gives, butt, load, of, homework, b...  \n",
       "3  [Does, a, GPA, round, up, My, girlfriend, is, ...  \n",
       "4  [Should, I, take, CALC, II, Im, a, freshman, B...  "
      ]
     },
     "execution_count": 49,
     "metadata": {},
     "output_type": "execute_result"
    }
   ],
   "source": [
    "c_gs.head()"
   ]
  },
  {
   "cell_type": "code",
   "execution_count": 50,
   "metadata": {},
   "outputs": [
    {
     "data": {
      "text/html": [
       "<div>\n",
       "<style scoped>\n",
       "    .dataframe tbody tr th:only-of-type {\n",
       "        vertical-align: middle;\n",
       "    }\n",
       "\n",
       "    .dataframe tbody tr th {\n",
       "        vertical-align: top;\n",
       "    }\n",
       "\n",
       "    .dataframe thead th {\n",
       "        text-align: right;\n",
       "    }\n",
       "</style>\n",
       "<table border=\"1\" class=\"dataframe\">\n",
       "  <thead>\n",
       "    <tr style=\"text-align: right;\">\n",
       "      <th></th>\n",
       "      <th>num_comments</th>\n",
       "      <th>up_votes</th>\n",
       "      <th>age</th>\n",
       "      <th>subreddit</th>\n",
       "      <th>all_text</th>\n",
       "      <th>tokenized_text</th>\n",
       "      <th>word_count</th>\n",
       "    </tr>\n",
       "  </thead>\n",
       "  <tbody>\n",
       "    <tr>\n",
       "      <td>0</td>\n",
       "      <td>435</td>\n",
       "      <td>88</td>\n",
       "      <td>47.065377</td>\n",
       "      <td>0</td>\n",
       "      <td>FAFSAfinancial aid verification questions Get ...</td>\n",
       "      <td>[FAFSAfinancial, aid, verification, questions,...</td>\n",
       "      <td>263</td>\n",
       "    </tr>\n",
       "    <tr>\n",
       "      <td>1</td>\n",
       "      <td>1</td>\n",
       "      <td>2</td>\n",
       "      <td>0.006776</td>\n",
       "      <td>0</td>\n",
       "      <td>Failed my midterm I failed my midterm and I wa...</td>\n",
       "      <td>[Failed, my, midterm, I, failed, my, midterm, ...</td>\n",
       "      <td>92</td>\n",
       "    </tr>\n",
       "    <tr>\n",
       "      <td>2</td>\n",
       "      <td>1</td>\n",
       "      <td>1</td>\n",
       "      <td>0.008998</td>\n",
       "      <td>0</td>\n",
       "      <td>Professor gives butt load of homework but is o...</td>\n",
       "      <td>[Professor, gives, butt, load, of, homework, b...</td>\n",
       "      <td>126</td>\n",
       "    </tr>\n",
       "    <tr>\n",
       "      <td>3</td>\n",
       "      <td>0</td>\n",
       "      <td>1</td>\n",
       "      <td>0.013535</td>\n",
       "      <td>0</td>\n",
       "      <td>Does a GPA round up My girlfriend is graduatin...</td>\n",
       "      <td>[Does, a, GPA, round, up, My, girlfriend, is, ...</td>\n",
       "      <td>68</td>\n",
       "    </tr>\n",
       "    <tr>\n",
       "      <td>4</td>\n",
       "      <td>0</td>\n",
       "      <td>1</td>\n",
       "      <td>0.017274</td>\n",
       "      <td>0</td>\n",
       "      <td>Should I take CALC II Im a freshman Biochem Ma...</td>\n",
       "      <td>[Should, I, take, CALC, II, Im, a, freshman, B...</td>\n",
       "      <td>167</td>\n",
       "    </tr>\n",
       "  </tbody>\n",
       "</table>\n",
       "</div>"
      ],
      "text/plain": [
       "   num_comments  up_votes        age  subreddit  \\\n",
       "0           435        88  47.065377          0   \n",
       "1             1         2   0.006776          0   \n",
       "2             1         1   0.008998          0   \n",
       "3             0         1   0.013535          0   \n",
       "4             0         1   0.017274          0   \n",
       "\n",
       "                                            all_text  \\\n",
       "0  FAFSAfinancial aid verification questions Get ...   \n",
       "1  Failed my midterm I failed my midterm and I wa...   \n",
       "2  Professor gives butt load of homework but is o...   \n",
       "3  Does a GPA round up My girlfriend is graduatin...   \n",
       "4  Should I take CALC II Im a freshman Biochem Ma...   \n",
       "\n",
       "                                      tokenized_text  word_count  \n",
       "0  [FAFSAfinancial, aid, verification, questions,...         263  \n",
       "1  [Failed, my, midterm, I, failed, my, midterm, ...          92  \n",
       "2  [Professor, gives, butt, load, of, homework, b...         126  \n",
       "3  [Does, a, GPA, round, up, My, girlfriend, is, ...          68  \n",
       "4  [Should, I, take, CALC, II, Im, a, freshman, B...         167  "
      ]
     },
     "execution_count": 50,
     "metadata": {},
     "output_type": "execute_result"
    }
   ],
   "source": [
    "c_gs['word_count'] = c_gs['all_text'].apply(lambda x: len(x.split()))\n",
    "c_gs.head()"
   ]
  },
  {
   "cell_type": "markdown",
   "metadata": {},
   "source": [
    "# Modeling"
   ]
  },
  {
   "cell_type": "code",
   "execution_count": 51,
   "metadata": {},
   "outputs": [],
   "source": [
    "#determine X and Y variables\n",
    "X = c_gs['all_text']\n",
    "y = c_gs['subreddit']"
   ]
  },
  {
   "cell_type": "code",
   "execution_count": 52,
   "metadata": {},
   "outputs": [],
   "source": [
    "X_train, X_test, y_train, y_test = train_test_split(X,\n",
    "                                                    y,\n",
    "                                                    test_size=0.30,\n",
    "                                                    stratify=y,\n",
    "                                                    random_state=248)"
   ]
  },
  {
   "cell_type": "code",
   "execution_count": 53,
   "metadata": {},
   "outputs": [],
   "source": [
    "pipe_1 = Pipeline([\n",
    "    ('cvec', CountVectorizer()),\n",
    "    ('lr', LogisticRegression())\n",
    "])\n",
    "\n",
    "pipe_2 = Pipeline([\n",
    "    ('tfidf', TfidfVectorizer()),\n",
    "    ('lr', LogisticRegression())\n",
    "    \n",
    "])\n",
    "\n",
    "pipe_3 = Pipeline([\n",
    "    ('tfidf', TfidfVectorizer()),\n",
    "    ('lr', LogisticRegression())\n",
    "    \n",
    "])\n",
    "\n",
    "pipe_ngram = Pipeline([\n",
    "    ('cvec', CountVectorizer()),\n",
    "    ('lr', LogisticRegression())\n",
    "])"
   ]
  },
  {
   "cell_type": "code",
   "execution_count": 54,
   "metadata": {},
   "outputs": [],
   "source": [
    "pipe_1_params = {\n",
    "    'cvec__stop_words': [eda_words],\n",
    "    'cvec__max_features': [3000, 4000, 5000],\n",
    "    'cvec__min_df': [10, 25, 50],\n",
    "    'cvec__max_df': [0.8, 0.9],\n",
    "    'cvec__ngram_range': [(1,3), (1,2), (2,2)]\n",
    "}\n",
    "\n",
    "pipe_2_params = {\n",
    "    'tfidf__stop_words': [eda_words],\n",
    "    'tfidf__max_features': [1000, 1500, 1700],\n",
    "    'tfidf__min_df': [20, 25, 40],\n",
    "    'tfidf__max_df': [0.8, 0.85, 0.9],\n",
    "}\n",
    "\n",
    "pipe_3_params = {\n",
    "    'tfidf__stop_words': [eda_words],\n",
    "    'tfidf__max_features': [1500, 1700, 2000],\n",
    "    'tfidf__min_df': [35, 37, 42],\n",
    "    'tfidf__max_df': [0.85, 0.9],    \n",
    "}\n",
    "\n",
    "param_ngram = {\n",
    "    'cvec__stop_words': [eda_words],\n",
    "    'cvec__ngram_range': [(2,3), (3,3)]\n",
    "}"
   ]
  },
  {
   "cell_type": "code",
   "execution_count": 55,
   "metadata": {
    "scrolled": true
   },
   "outputs": [
    {
     "name": "stdout",
     "output_type": "stream",
     "text": [
      "gs_1 completed\n",
      "gs_2 completed\n",
      "gs_3 completed\n",
      "n_gram completed\n"
     ]
    }
   ],
   "source": [
    "gs_1 = GridSearchCV(pipe_1,\n",
    "                   pipe_1_params,\n",
    "                   cv = 5)\n",
    "print('gs_1 completed')\n",
    "\n",
    "gs_2 = GridSearchCV(pipe_2,\n",
    "                   pipe_2_params,\n",
    "                   cv = 5)\n",
    "print('gs_2 completed')\n",
    "\n",
    "gs_3 = GridSearchCV(pipe_3,\n",
    "                   pipe_3_params,\n",
    "                   cv = 5)\n",
    "print('gs_3 completed')\n",
    "\n",
    "gs_n_gram = GridSearchCV(pipe_ngram,\n",
    "                        param_ngram,\n",
    "                        cv = 5)\n",
    "print('n_gram completed')"
   ]
  },
  {
   "cell_type": "code",
   "execution_count": 56,
   "metadata": {
    "scrolled": true
   },
   "outputs": [
    {
     "name": "stderr",
     "output_type": "stream",
     "text": [
      "C:\\Users\\Brianna Lytle\\Anaconda3\\lib\\site-packages\\sklearn\\linear_model\\logistic.py:433: FutureWarning: Default solver will be changed to 'lbfgs' in 0.22. Specify a solver to silence this warning.\n",
      "  FutureWarning)\n"
     ]
    },
    {
     "name": "stdout",
     "output_type": "stream",
     "text": [
      "gs_1 best score is 0.8482758620689655. The best model from this grid search is Pipeline(memory=None,\n",
      "     steps=[('cvec', CountVectorizer(analyzer='word', binary=False, decode_error='strict',\n",
      "        dtype=<class 'numpy.int64'>, encoding='utf-8', input='content',\n",
      "        lowercase=True, max_df=0.8, max_features=4000, min_df=10,\n",
      "        ngram_range=(1, 2), preprocessor=None,\n",
      "        stop_words=['nine', '...penalty='l2', random_state=None, solver='warn',\n",
      "          tol=0.0001, verbose=0, warm_start=False))])\n"
     ]
    },
    {
     "name": "stderr",
     "output_type": "stream",
     "text": [
      "C:\\Users\\Brianna Lytle\\Anaconda3\\lib\\site-packages\\sklearn\\linear_model\\logistic.py:433: FutureWarning: Default solver will be changed to 'lbfgs' in 0.22. Specify a solver to silence this warning.\n",
      "  FutureWarning)\n"
     ]
    },
    {
     "name": "stdout",
     "output_type": "stream",
     "text": [
      "gs_2 best score is 0.8474137931034482. The best model from this grid search is Pipeline(memory=None,\n",
      "     steps=[('tfidf', TfidfVectorizer(analyzer='word', binary=False, decode_error='strict',\n",
      "        dtype=<class 'numpy.float64'>, encoding='utf-8', input='content',\n",
      "        lowercase=True, max_df=0.8, max_features=1500, min_df=20,\n",
      "        ngram_range=(1, 1), norm='l2', preprocessor=None, smooth_idf=True...penalty='l2', random_state=None, solver='warn',\n",
      "          tol=0.0001, verbose=0, warm_start=False))])\n"
     ]
    },
    {
     "name": "stderr",
     "output_type": "stream",
     "text": [
      "C:\\Users\\Brianna Lytle\\Anaconda3\\lib\\site-packages\\sklearn\\linear_model\\logistic.py:433: FutureWarning: Default solver will be changed to 'lbfgs' in 0.22. Specify a solver to silence this warning.\n",
      "  FutureWarning)\n"
     ]
    },
    {
     "name": "stdout",
     "output_type": "stream",
     "text": [
      "gs_3 best score is 0.8400862068965518. The best model from this grid search is Pipeline(memory=None,\n",
      "     steps=[('tfidf', TfidfVectorizer(analyzer='word', binary=False, decode_error='strict',\n",
      "        dtype=<class 'numpy.float64'>, encoding='utf-8', input='content',\n",
      "        lowercase=True, max_df=0.85, max_features=1500, min_df=35,\n",
      "        ngram_range=(1, 1), norm='l2', preprocessor=None, smooth_idf=Tru...penalty='l2', random_state=None, solver='warn',\n",
      "          tol=0.0001, verbose=0, warm_start=False))])\n"
     ]
    },
    {
     "name": "stderr",
     "output_type": "stream",
     "text": [
      "C:\\Users\\Brianna Lytle\\Anaconda3\\lib\\site-packages\\sklearn\\linear_model\\logistic.py:433: FutureWarning: Default solver will be changed to 'lbfgs' in 0.22. Specify a solver to silence this warning.\n",
      "  FutureWarning)\n"
     ]
    },
    {
     "name": "stdout",
     "output_type": "stream",
     "text": [
      "gs_n_gram best score is 0.7064655172413793. The best model from this grid search is Pipeline(memory=None,\n",
      "     steps=[('cvec', CountVectorizer(analyzer='word', binary=False, decode_error='strict',\n",
      "        dtype=<class 'numpy.int64'>, encoding='utf-8', input='content',\n",
      "        lowercase=True, max_df=1.0, max_features=None, min_df=1,\n",
      "        ngram_range=(2, 3), preprocessor=None,\n",
      "        stop_words=['nine', 'w...penalty='l2', random_state=None, solver='warn',\n",
      "          tol=0.0001, verbose=0, warm_start=False))])\n"
     ]
    }
   ],
   "source": [
    "gs_1.fit(X_train, y_train)\n",
    "print(f'gs_1 best score is {gs_1.best_score_}. The best model from this grid search is {gs_1.best_estimator_}')\n",
    "\n",
    "gs_2.fit(X_train, y_train)\n",
    "print(f'gs_2 best score is {gs_2.best_score_}. The best model from this grid search is {gs_2.best_estimator_}')\n",
    "\n",
    "gs_3.fit(X_train, y_train)\n",
    "print(f'gs_3 best score is {gs_3.best_score_}. The best model from this grid search is {gs_3.best_estimator_}')\n",
    "\n",
    "gs_n_gram.fit(X_train, y_train)\n",
    "print(f'gs_n_gram best score is {gs_n_gram.best_score_}. The best model from this grid search is {gs_n_gram.best_estimator_}')"
   ]
  },
  {
   "cell_type": "markdown",
   "metadata": {},
   "source": [
    "## Overall Best Model"
   ]
  },
  {
   "cell_type": "code",
   "execution_count": 57,
   "metadata": {},
   "outputs": [],
   "source": [
    "best_model = gs_3.best_estimator_\n",
    "log_feature_names = best_model.named_steps['tfidf'].get_feature_names()"
   ]
  },
  {
   "cell_type": "code",
   "execution_count": 58,
   "metadata": {},
   "outputs": [],
   "source": [
    "log_feature_coef = best_model.named_steps['lr'].coef_[0]"
   ]
  },
  {
   "cell_type": "code",
   "execution_count": 59,
   "metadata": {},
   "outputs": [],
   "source": [
    "log_feature_exp = [np.exp(i) for i in log_feature_coef]\n",
    "\n",
    "feature_dict = {\n",
    "    \n",
    "    'feature_names' : log_feature_names,\n",
    "    'feature_coef' : log_feature_coef,\n",
    "    'feature_exp' : log_feature_exp\n",
    "    \n",
    "}\n",
    "\n",
    "best_model_words = pd.DataFrame(feature_dict)"
   ]
  },
  {
   "cell_type": "code",
   "execution_count": 60,
   "metadata": {},
   "outputs": [
    {
     "data": {
      "text/html": [
       "<div>\n",
       "<style scoped>\n",
       "    .dataframe tbody tr th:only-of-type {\n",
       "        vertical-align: middle;\n",
       "    }\n",
       "\n",
       "    .dataframe tbody tr th {\n",
       "        vertical-align: top;\n",
       "    }\n",
       "\n",
       "    .dataframe thead th {\n",
       "        text-align: right;\n",
       "    }\n",
       "</style>\n",
       "<table border=\"1\" class=\"dataframe\">\n",
       "  <thead>\n",
       "    <tr style=\"text-align: right;\">\n",
       "      <th></th>\n",
       "      <th>feature_names</th>\n",
       "      <th>feature_coef</th>\n",
       "      <th>feature_exp</th>\n",
       "    </tr>\n",
       "  </thead>\n",
       "  <tbody>\n",
       "    <tr>\n",
       "      <td>760</td>\n",
       "      <td>program</td>\n",
       "      <td>5.349460</td>\n",
       "      <td>210.494647</td>\n",
       "    </tr>\n",
       "    <tr>\n",
       "      <td>1052</td>\n",
       "      <td>undergrad</td>\n",
       "      <td>4.927594</td>\n",
       "      <td>138.046949</td>\n",
       "    </tr>\n",
       "    <tr>\n",
       "      <td>822</td>\n",
       "      <td>research</td>\n",
       "      <td>4.370004</td>\n",
       "      <td>79.043937</td>\n",
       "    </tr>\n",
       "    <tr>\n",
       "      <td>1008</td>\n",
       "      <td>thesis</td>\n",
       "      <td>3.885991</td>\n",
       "      <td>48.715185</td>\n",
       "    </tr>\n",
       "    <tr>\n",
       "      <td>404</td>\n",
       "      <td>graduate</td>\n",
       "      <td>3.714981</td>\n",
       "      <td>41.057806</td>\n",
       "    </tr>\n",
       "    <tr>\n",
       "      <td>409</td>\n",
       "      <td>gre</td>\n",
       "      <td>3.585843</td>\n",
       "      <td>36.083755</td>\n",
       "    </tr>\n",
       "    <tr>\n",
       "      <td>22</td>\n",
       "      <td>academia</td>\n",
       "      <td>2.886974</td>\n",
       "      <td>17.938949</td>\n",
       "    </tr>\n",
       "    <tr>\n",
       "      <td>257</td>\n",
       "      <td>dissertation</td>\n",
       "      <td>2.749327</td>\n",
       "      <td>15.632102</td>\n",
       "    </tr>\n",
       "    <tr>\n",
       "      <td>761</td>\n",
       "      <td>programs</td>\n",
       "      <td>2.670937</td>\n",
       "      <td>14.453502</td>\n",
       "    </tr>\n",
       "    <tr>\n",
       "      <td>524</td>\n",
       "      <td>lab</td>\n",
       "      <td>2.371100</td>\n",
       "      <td>10.709161</td>\n",
       "    </tr>\n",
       "    <tr>\n",
       "      <td>40</td>\n",
       "      <td>advisor</td>\n",
       "      <td>2.258692</td>\n",
       "      <td>9.570561</td>\n",
       "    </tr>\n",
       "    <tr>\n",
       "      <td>713</td>\n",
       "      <td>pi</td>\n",
       "      <td>2.232612</td>\n",
       "      <td>9.324185</td>\n",
       "    </tr>\n",
       "    <tr>\n",
       "      <td>338</td>\n",
       "      <td>field</td>\n",
       "      <td>2.072060</td>\n",
       "      <td>7.941167</td>\n",
       "    </tr>\n",
       "    <tr>\n",
       "      <td>225</td>\n",
       "      <td>data</td>\n",
       "      <td>1.953159</td>\n",
       "      <td>7.050926</td>\n",
       "    </tr>\n",
       "    <tr>\n",
       "      <td>243</td>\n",
       "      <td>department</td>\n",
       "      <td>1.944754</td>\n",
       "      <td>6.991914</td>\n",
       "    </tr>\n",
       "  </tbody>\n",
       "</table>\n",
       "</div>"
      ],
      "text/plain": [
       "     feature_names  feature_coef  feature_exp\n",
       "760        program      5.349460   210.494647\n",
       "1052     undergrad      4.927594   138.046949\n",
       "822       research      4.370004    79.043937\n",
       "1008        thesis      3.885991    48.715185\n",
       "404       graduate      3.714981    41.057806\n",
       "409            gre      3.585843    36.083755\n",
       "22        academia      2.886974    17.938949\n",
       "257   dissertation      2.749327    15.632102\n",
       "761       programs      2.670937    14.453502\n",
       "524            lab      2.371100    10.709161\n",
       "40         advisor      2.258692     9.570561\n",
       "713             pi      2.232612     9.324185\n",
       "338          field      2.072060     7.941167\n",
       "225           data      1.953159     7.050926\n",
       "243     department      1.944754     6.991914"
      ]
     },
     "execution_count": 60,
     "metadata": {},
     "output_type": "execute_result"
    }
   ],
   "source": [
    "best_model_words.sort_values(by = 'feature_exp', ascending = False).head(15)"
   ]
  },
  {
   "cell_type": "code",
   "execution_count": 61,
   "metadata": {},
   "outputs": [],
   "source": [
    "best_model_words = best_model_words.sort_values(by = 'feature_exp', ascending = False).head(15)"
   ]
  },
  {
   "cell_type": "markdown",
   "metadata": {},
   "source": [
    "# More Modeling with Classifiers"
   ]
  },
  {
   "cell_type": "markdown",
   "metadata": {},
   "source": [
    "## Random Forest"
   ]
  },
  {
   "cell_type": "code",
   "execution_count": 62,
   "metadata": {},
   "outputs": [],
   "source": [
    "cvec = CountVectorizer (lowercase=True, stop_words= eda_words ,ngram_range = (1,1), max_df = .95, min_df= 5)\n",
    "c_gs_matrix = (cvec.fit_transform(c_gs['all_text']))\n",
    "c_gs_df = pd.DataFrame(c_gs_matrix.toarray(),\n",
    "                        columns = cvec.get_feature_names())\n",
    "c_gs_df['subreddit'] = c_gs['subreddit']\n"
   ]
  },
  {
   "cell_type": "code",
   "execution_count": 22,
   "metadata": {},
   "outputs": [],
   "source": [
    "X = c_gs_df.loc[:, c_gs_df.columns !='subreddit']\n",
    "y = c_gs_df['subreddit']"
   ]
  },
  {
   "cell_type": "code",
   "execution_count": 23,
   "metadata": {},
   "outputs": [
    {
     "data": {
      "text/plain": [
       "0.8316251276503241"
      ]
     },
     "execution_count": 23,
     "metadata": {},
     "output_type": "execute_result"
    }
   ],
   "source": [
    "X_train, X_val, y_train, y_val = train_test_split(X, y,\n",
    "                                                  random_state=42,\n",
    "                                                  stratify=y)\n",
    "rf = RandomForestClassifier(n_estimators = 10)\n",
    "cross_val_score(rf, X_train, y_train, cv=5).mean()"
   ]
  },
  {
   "cell_type": "code",
   "execution_count": 24,
   "metadata": {},
   "outputs": [
    {
     "name": "stdout",
     "output_type": "stream",
     "text": [
      "0.8626030979682157\n"
     ]
    },
    {
     "data": {
      "text/plain": [
       "{'max_depth': 200, 'n_estimators': 200}"
      ]
     },
     "execution_count": 24,
     "metadata": {},
     "output_type": "execute_result"
    }
   ],
   "source": [
    "rf = RandomForestClassifier(random_state = 248)\n",
    "rf_params = {\n",
    "    'n_estimators' : [50, 100, 200],\n",
    "    'max_depth' : [50, 100, 200]\n",
    "}\n",
    "gs = GridSearchCV(rf, param_grid = rf_params, cv = 5)\n",
    "gs.fit(X_train, y_train)\n",
    "print(gs.best_score_)\n",
    "gs.best_params_"
   ]
  },
  {
   "cell_type": "markdown",
   "metadata": {},
   "source": [
    "## AdaBoostClassifier"
   ]
  },
  {
   "cell_type": "code",
   "execution_count": 25,
   "metadata": {},
   "outputs": [
    {
     "name": "stdout",
     "output_type": "stream",
     "text": [
      "0.8257895795614565\n"
     ]
    },
    {
     "data": {
      "text/plain": [
       "{'base_estimator__max_depth': 2, 'learning_rate': 1.0, 'n_estimators': 100}"
      ]
     },
     "execution_count": 25,
     "metadata": {},
     "output_type": "execute_result"
    }
   ],
   "source": [
    "ada = AdaBoostClassifier(base_estimator=DecisionTreeClassifier())\n",
    "ada_params = {\n",
    "    'n_estimators': [50,100],\n",
    "    'base_estimator__max_depth': [1,2],\n",
    "    'learning_rate': [.9, 1.]\n",
    "}\n",
    "gs = GridSearchCV(ada, param_grid=ada_params, cv=3)\n",
    "gs.fit(X_train, y_train)\n",
    "print(gs.best_score_)\n",
    "gs.best_params_"
   ]
  }
 ],
 "metadata": {
  "kernelspec": {
   "display_name": "Python 3",
   "language": "python",
   "name": "python3"
  },
  "language_info": {
   "codemirror_mode": {
    "name": "ipython",
    "version": 3
   },
   "file_extension": ".py",
   "mimetype": "text/x-python",
   "name": "python",
   "nbconvert_exporter": "python",
   "pygments_lexer": "ipython3",
   "version": "3.7.4"
  }
 },
 "nbformat": 4,
 "nbformat_minor": 2
}
