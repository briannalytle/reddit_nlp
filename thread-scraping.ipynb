{
 "cells": [
  {
   "cell_type": "code",
   "execution_count": 1,
   "metadata": {},
   "outputs": [],
   "source": [
    "import pandas as pd\n",
    "import requests, json, time, datetime\n",
    "\n",
    "import praw"
   ]
  },
  {
   "cell_type": "markdown",
   "metadata": {},
   "source": [
    "# Scraping Threads"
   ]
  },
  {
   "cell_type": "code",
   "execution_count": 2,
   "metadata": {},
   "outputs": [
    {
     "data": {
      "text/plain": [
       "{'id': '', 'secret': '', 'user': 'bananaerz', 'pass': ''}"
      ]
     },
     "execution_count": 2,
     "metadata": {},
     "output_type": "execute_result"
    }
   ],
   "source": [
    "r_creds = {\n",
    "    'id' : '',\n",
    "    'secret' : '',\n",
    "    'user' : 'bananaerz',\n",
    "    'pass' : ''\n",
    "    \n",
    "}\n",
    "r_creds"
   ]
  },
  {
   "cell_type": "code",
   "execution_count": 3,
   "metadata": {},
   "outputs": [
    {
     "data": {
      "text/plain": [
       "'{\"id\": \"\", \"secret\": \"\", \"user\": \"bananaerz\", \"pass\": \"\"}'"
      ]
     },
     "execution_count": 3,
     "metadata": {},
     "output_type": "execute_result"
    }
   ],
   "source": [
    "json.dumps(r_creds)"
   ]
  },
  {
   "cell_type": "code",
   "execution_count": 4,
   "metadata": {},
   "outputs": [],
   "source": [
    "#with open('creds.json', 'w+') as cred_file:\n",
    " #   cred_file.write(json.dumps(r_creds))"
   ]
  },
  {
   "cell_type": "code",
   "execution_count": 5,
   "metadata": {},
   "outputs": [],
   "source": [
    "creds_file = open('creds.json', 'r')\n",
    "r_creds = json.loads(creds_file.read())"
   ]
  },
  {
   "cell_type": "code",
   "execution_count": 6,
   "metadata": {},
   "outputs": [
    {
     "data": {
      "text/plain": [
       "'A_EwvJA4Pt76cg'"
      ]
     },
     "execution_count": 6,
     "metadata": {},
     "output_type": "execute_result"
    }
   ],
   "source": [
    "r_creds['id']"
   ]
  },
  {
   "cell_type": "code",
   "execution_count": 7,
   "metadata": {},
   "outputs": [
    {
     "data": {
      "text/plain": [
       "False"
      ]
     },
     "execution_count": 7,
     "metadata": {},
     "output_type": "execute_result"
    }
   ],
   "source": [
    "reddit = praw.Reddit(\n",
    "    client_id     = r_creds['id'],\n",
    "    client_secret = r_creds['secret'],\n",
    "    username      = r_creds['user'],\n",
    "    password      = r_creds['pass'],\n",
    "    user_agent    = 'brianna'\n",
    ")\n",
    "reddit.read_only"
   ]
  },
  {
   "cell_type": "markdown",
   "metadata": {},
   "source": [
    "## /r/GradSchool Thread"
   ]
  },
  {
   "cell_type": "code",
   "execution_count": 8,
   "metadata": {},
   "outputs": [],
   "source": [
    "grad_school = reddit.subreddit('GradSchool')"
   ]
  },
  {
   "cell_type": "code",
   "execution_count": 9,
   "metadata": {},
   "outputs": [
    {
     "data": {
      "text/plain": [
       "Subreddit(display_name='GradSchool')"
      ]
     },
     "execution_count": 9,
     "metadata": {},
     "output_type": "execute_result"
    }
   ],
   "source": [
    "grad_school"
   ]
  },
  {
   "cell_type": "code",
   "execution_count": 10,
   "metadata": {},
   "outputs": [
    {
     "name": "stdout",
     "output_type": "stream",
     "text": [
      "* [Night Mode](https://nm.reddit.com/r/GradSchool#icon-night) [Light Mode](https://www.reddit.com/r/GradSchool#icon-day)  \n",
      "\n",
      "**Welcome to /r/GradSchool!**\n",
      "\n",
      "Discussion forum for current, past, and future students of any discipline completing post-graduate studies - taught or research.\n",
      "\n",
      "##Rules\n",
      "- 1. No NSFW content.\n",
      "- 2. No reposts.\n",
      "- 3. No memes or pictures of text. \n",
      "- 4. Posts, comments, and replies must foster reasonable discussion.\n",
      "- 5. No editorialized link titles.\n",
      "- 6. No political posts.\n",
      "- 7. No belittlement of other users for any reason. (Eg: political opinions, race, sex, academic affiliation, etc.)\n",
      "- 8. No irrelevant surveys or advertising.\n",
      "- 9. Follow Reddiquette: http://www.reddit.com/wiki/reddiquette\n",
      " \n",
      "##Read These Before Posting\n",
      "- [Read this before asking about how to get into Grad School with a low GPA][badgpa]\n",
      "- [Read this before posting surveys, links to collect data, etc][datacollection]\n",
      "\n",
      "##Educational Status Flairs\n",
      "Users may add their own flair to indicate their educational status, e.g. PhD\\*, Philosophy.\n",
      "\n",
      "The format should take the general form of Degree, Specialisation. An asterisk (\\*) after the degree denotes active candidacy or study.\n",
      "\n",
      "Users who do not follow the general form may have their flair privileges removed.\n",
      "\n",
      "##Other Resources\n",
      "- [/r/Depression/](http://www.reddit.com/r/Depression/), [/r/Anxiety/](http://www.reddit.com/r/Anxiety/), [/r/Getting_Over_It/](http://www.reddit.com/r/getting_over_it/), [r/SuicideWatch/](http://www.reddit.com/r/SuicideWatch/) for mental health assistance\n",
      "- [/r/GradAdmissions/][gradmissions] for questions about graduate admissions\n",
      "- [/r/AskAcademia/](http://www.reddit.com/r/AskAcademia/) for questions about academia\n",
      "- [/r/Scholar/](http://www.reddit.com/r/AskAcademia/) for requesting and sharing specific articles available in various databases\n",
      "\n",
      "[gradmissions]: http://www.reddit.com/r/gradadmissions\n",
      "[badgpa]: https://www.reddit.com/r/GradSchool/comments/25gj24/a_somewhat_notgentle_guide_to_getting_into_grad/\n",
      "[datacollection]: https://www.reddit.com/r/GradSchool/comments/3rl828/about_submitting_links_for_data_collection/?ref=share&ref_source=link\n",
      "\n",
      "[](#/RES_SR_Config/NightModeCompatible)\n"
     ]
    }
   ],
   "source": [
    "print(grad_school.description)"
   ]
  },
  {
   "cell_type": "code",
   "execution_count": 11,
   "metadata": {},
   "outputs": [],
   "source": [
    "#list of hot from thread\n",
    "hot_grad = list(grad_school.hot(limit=5000))\n",
    "titles = [post.title for post in hot_grad]\n",
    "num_coms = [post.num_comments for post in hot_grad]\n",
    "body_text = [post.selftext for post in hot_grad]\n",
    "up_votes = [post.ups for post in hot_grad]\n",
    "age = [(time.time() - post.created_utc)/60/1440 for post in hot_grad]\n",
    "sub = ['GradSchool' for post in hot_grad]\n",
    "\n",
    "#datetime\n",
    "\n",
    "hot_dict = {\n",
    "    'title': titles,\n",
    "    'body': body_text,\n",
    "    'num_comments': num_coms,\n",
    "    'up_votes': up_votes,\n",
    "    'age': age,\n",
    "    'subreddit': sub\n",
    "}\n",
    "\n",
    "hot_grad = pd.DataFrame(hot_dict)"
   ]
  },
  {
   "cell_type": "code",
   "execution_count": 12,
   "metadata": {},
   "outputs": [
    {
     "data": {
      "text/html": [
       "<div>\n",
       "<style scoped>\n",
       "    .dataframe tbody tr th:only-of-type {\n",
       "        vertical-align: middle;\n",
       "    }\n",
       "\n",
       "    .dataframe tbody tr th {\n",
       "        vertical-align: top;\n",
       "    }\n",
       "\n",
       "    .dataframe thead th {\n",
       "        text-align: right;\n",
       "    }\n",
       "</style>\n",
       "<table border=\"1\" class=\"dataframe\">\n",
       "  <thead>\n",
       "    <tr style=\"text-align: right;\">\n",
       "      <th></th>\n",
       "      <th>title</th>\n",
       "      <th>body</th>\n",
       "      <th>num_comments</th>\n",
       "      <th>up_votes</th>\n",
       "      <th>age</th>\n",
       "      <th>subreddit</th>\n",
       "    </tr>\n",
       "  </thead>\n",
       "  <tbody>\n",
       "    <tr>\n",
       "      <td>0</td>\n",
       "      <td>OFFICIAL ACCEPTANCE MEGA-THREAD! Post Your Acc...</td>\n",
       "      <td>OFFICIAL ACCEPTANCE MEGA-THREAD! Post Your Acc...</td>\n",
       "      <td>503</td>\n",
       "      <td>228</td>\n",
       "      <td>216.331858</td>\n",
       "      <td>GradSchool</td>\n",
       "    </tr>\n",
       "  </tbody>\n",
       "</table>\n",
       "</div>"
      ],
      "text/plain": [
       "                                               title  \\\n",
       "0  OFFICIAL ACCEPTANCE MEGA-THREAD! Post Your Acc...   \n",
       "\n",
       "                                                body  num_comments  up_votes  \\\n",
       "0  OFFICIAL ACCEPTANCE MEGA-THREAD! Post Your Acc...           503       228   \n",
       "\n",
       "          age   subreddit  \n",
       "0  216.331858  GradSchool  "
      ]
     },
     "execution_count": 12,
     "metadata": {},
     "output_type": "execute_result"
    }
   ],
   "source": [
    "hot_grad.head(1)"
   ]
  },
  {
   "cell_type": "code",
   "execution_count": 13,
   "metadata": {},
   "outputs": [],
   "source": [
    "#list of new from thread\n",
    "new_grad = list(grad_school.new(limit=5000))\n",
    "titles = [post.title for post in new_grad]\n",
    "num_coms = [post.num_comments for post in new_grad]\n",
    "body_text = [post.selftext for post in new_grad]\n",
    "up_votes = [post.ups for post in new_grad]\n",
    "age = [(time.time() - post.created_utc)/60/1440 for post in new_grad]\n",
    "sub = ['GradSchool' for post in new_grad]\n",
    "\n",
    "#datetime\n",
    "\n",
    "new_dict = {\n",
    "    'title': titles,\n",
    "    'body': body_text,\n",
    "    'num_comments': num_coms,\n",
    "    'up_votes': up_votes,\n",
    "    'age': age,\n",
    "    'subreddit': sub\n",
    "}\n",
    "\n",
    "new_grad = pd.DataFrame(new_dict)"
   ]
  },
  {
   "cell_type": "code",
   "execution_count": 14,
   "metadata": {},
   "outputs": [],
   "source": [
    "#list of controversial from thread\n",
    "controversial_grad = list(grad_school.controversial(limit=5000))\n",
    "titles = [post.title for post in controversial_grad]\n",
    "num_coms = [post.num_comments for post in controversial_grad]\n",
    "body_text = [post.selftext for post in controversial_grad]\n",
    "up_votes = [post.ups for post in controversial_grad]\n",
    "age = [(time.time() - post.created_utc)/60/1440 for post in controversial_grad]\n",
    "sub = ['GradSchool' for post in controversial_grad]\n",
    "\n",
    "#datetime\n",
    "\n",
    "controverisal_dict = {\n",
    "    'title': titles,\n",
    "    'body': body_text,\n",
    "    'num_comments': num_coms,\n",
    "    'up_votes': up_votes,\n",
    "    'age' : age,\n",
    "    'subreddit': sub\n",
    "}\n",
    "\n",
    "controversial_grad = pd.DataFrame(controverisal_dict)"
   ]
  },
  {
   "cell_type": "code",
   "execution_count": 15,
   "metadata": {},
   "outputs": [],
   "source": [
    "#list of top from thread\n",
    "top_grad = list(grad_school.top(limit=5000))\n",
    "titles = [post.title for post in top_grad]\n",
    "num_coms = [post.num_comments for post in top_grad]\n",
    "body_text = [post.selftext for post in top_grad]\n",
    "up_votes = [post.ups for post in top_grad]\n",
    "age = [(time.time() - post.created_utc)/60/1440 for post in top_grad]\n",
    "sub = ['GradSchool' for post in top_grad]\n",
    "\n",
    "#datetime\n",
    "\n",
    "top_dict = {\n",
    "    'title': titles,\n",
    "    'body': body_text,\n",
    "    'num_comments': num_coms,\n",
    "    'up_votes': up_votes,\n",
    "    'age' : age,\n",
    "    'subreddit': sub\n",
    "}\n",
    "\n",
    "top_grad = pd.DataFrame(top_dict)"
   ]
  },
  {
   "cell_type": "code",
   "execution_count": 16,
   "metadata": {},
   "outputs": [],
   "source": [
    "#list of rising from thread\n",
    "rising_grad = list(grad_school.rising(limit=5000))\n",
    "titles = [post.title for post in rising_grad]\n",
    "num_coms = [post.num_comments for post in rising_grad]\n",
    "body_text = [post.selftext for post in rising_grad]\n",
    "up_votes = [post.ups for post in rising_grad]\n",
    "age = [(time.time() - post.created_utc)/60/1440 for post in rising_grad]\n",
    "sub = ['GradSchool' for post in rising_grad]\n",
    "\n",
    "#datetime\n",
    "\n",
    "rising_dict = {\n",
    "    'title': titles,\n",
    "    'body': body_text,\n",
    "    'num_comments': num_coms,\n",
    "    'up_votes': up_votes,\n",
    "    'age' : age,\n",
    "    'subreddit': sub\n",
    "}\n",
    "\n",
    "rising_grad = pd.DataFrame(rising_dict)"
   ]
  },
  {
   "cell_type": "code",
   "execution_count": 17,
   "metadata": {},
   "outputs": [],
   "source": [
    "#combined all major subject threads into one main grad_school thread\n",
    "grad_school = hot_grad.append([new_grad, controversial_grad, top_grad, rising_grad])"
   ]
  },
  {
   "cell_type": "code",
   "execution_count": 18,
   "metadata": {},
   "outputs": [
    {
     "data": {
      "text/plain": [
       "(3745, 6)"
      ]
     },
     "execution_count": 18,
     "metadata": {},
     "output_type": "execute_result"
    }
   ],
   "source": [
    "grad_school.shape"
   ]
  },
  {
   "cell_type": "markdown",
   "metadata": {},
   "source": [
    "October 14: after combining all 4 dataframe threads for grad_school, then the total length of posts added up to 3,743. After dropping the duplicateds, the dataframe is now at a length of 2903"
   ]
  },
  {
   "cell_type": "code",
   "execution_count": 19,
   "metadata": {},
   "outputs": [],
   "source": [
    "#droped the duplicates from the combined dataframes\n",
    "grad_school_thread = grad_school.drop_duplicates(subset = ['title', 'body'], keep='last')"
   ]
  },
  {
   "cell_type": "code",
   "execution_count": 20,
   "metadata": {
    "scrolled": true
   },
   "outputs": [
    {
     "data": {
      "text/plain": [
       "(2913, 6)"
      ]
     },
     "execution_count": 20,
     "metadata": {},
     "output_type": "execute_result"
    }
   ],
   "source": [
    "grad_school_thread.shape"
   ]
  },
  {
   "cell_type": "code",
   "execution_count": 21,
   "metadata": {},
   "outputs": [],
   "source": [
    "grad_school = grad_school.reset_index(drop=True)"
   ]
  },
  {
   "cell_type": "code",
   "execution_count": 22,
   "metadata": {
    "scrolled": false
   },
   "outputs": [
    {
     "data": {
      "text/html": [
       "<div>\n",
       "<style scoped>\n",
       "    .dataframe tbody tr th:only-of-type {\n",
       "        vertical-align: middle;\n",
       "    }\n",
       "\n",
       "    .dataframe tbody tr th {\n",
       "        vertical-align: top;\n",
       "    }\n",
       "\n",
       "    .dataframe thead th {\n",
       "        text-align: right;\n",
       "    }\n",
       "</style>\n",
       "<table border=\"1\" class=\"dataframe\">\n",
       "  <thead>\n",
       "    <tr style=\"text-align: right;\">\n",
       "      <th></th>\n",
       "      <th>title</th>\n",
       "      <th>body</th>\n",
       "      <th>num_comments</th>\n",
       "      <th>up_votes</th>\n",
       "      <th>age</th>\n",
       "      <th>subreddit</th>\n",
       "    </tr>\n",
       "  </thead>\n",
       "  <tbody>\n",
       "    <tr>\n",
       "      <td>0</td>\n",
       "      <td>OFFICIAL ACCEPTANCE MEGA-THREAD! Post Your Acc...</td>\n",
       "      <td>OFFICIAL ACCEPTANCE MEGA-THREAD! Post Your Acc...</td>\n",
       "      <td>503</td>\n",
       "      <td>228</td>\n",
       "      <td>216.331858</td>\n",
       "      <td>GradSchool</td>\n",
       "    </tr>\n",
       "    <tr>\n",
       "      <td>1</td>\n",
       "      <td>I constantly want to throw up</td>\n",
       "      <td>AHHHHHHHHHHH\\n\\nI'm 6 weeks into my biochemist...</td>\n",
       "      <td>19</td>\n",
       "      <td>82</td>\n",
       "      <td>0.242356</td>\n",
       "      <td>GradSchool</td>\n",
       "    </tr>\n",
       "    <tr>\n",
       "      <td>2</td>\n",
       "      <td>PSA: Do not update you Mac to latest Catalina yet</td>\n",
       "      <td>I updated to latest Mac OS Catalina. It result...</td>\n",
       "      <td>6</td>\n",
       "      <td>10</td>\n",
       "      <td>0.054034</td>\n",
       "      <td>GradSchool</td>\n",
       "    </tr>\n",
       "    <tr>\n",
       "      <td>3</td>\n",
       "      <td>I don't know what the fuck I'm doing and I fee...</td>\n",
       "      <td>Long story short I went straight into my PhD a...</td>\n",
       "      <td>4</td>\n",
       "      <td>4</td>\n",
       "      <td>0.029416</td>\n",
       "      <td>GradSchool</td>\n",
       "    </tr>\n",
       "    <tr>\n",
       "      <td>4</td>\n",
       "      <td>Some good articles with advice for new grad st...</td>\n",
       "      <td>It's the start of the academic year, with lots...</td>\n",
       "      <td>0</td>\n",
       "      <td>2</td>\n",
       "      <td>0.104092</td>\n",
       "      <td>GradSchool</td>\n",
       "    </tr>\n",
       "  </tbody>\n",
       "</table>\n",
       "</div>"
      ],
      "text/plain": [
       "                                               title  \\\n",
       "0  OFFICIAL ACCEPTANCE MEGA-THREAD! Post Your Acc...   \n",
       "1                      I constantly want to throw up   \n",
       "2  PSA: Do not update you Mac to latest Catalina yet   \n",
       "3  I don't know what the fuck I'm doing and I fee...   \n",
       "4  Some good articles with advice for new grad st...   \n",
       "\n",
       "                                                body  num_comments  up_votes  \\\n",
       "0  OFFICIAL ACCEPTANCE MEGA-THREAD! Post Your Acc...           503       228   \n",
       "1  AHHHHHHHHHHH\\n\\nI'm 6 weeks into my biochemist...            19        82   \n",
       "2  I updated to latest Mac OS Catalina. It result...             6        10   \n",
       "3  Long story short I went straight into my PhD a...             4         4   \n",
       "4  It's the start of the academic year, with lots...             0         2   \n",
       "\n",
       "          age   subreddit  \n",
       "0  216.331858  GradSchool  \n",
       "1    0.242356  GradSchool  \n",
       "2    0.054034  GradSchool  \n",
       "3    0.029416  GradSchool  \n",
       "4    0.104092  GradSchool  "
      ]
     },
     "execution_count": 22,
     "metadata": {},
     "output_type": "execute_result"
    }
   ],
   "source": [
    "grad_school.head()"
   ]
  },
  {
   "cell_type": "code",
   "execution_count": 23,
   "metadata": {},
   "outputs": [],
   "source": [
    "#export grad_school thread to csv\n",
    "grad_school.to_csv('./data/grad_school_oct17', encoding='utf-8', index=False)"
   ]
  },
  {
   "cell_type": "markdown",
   "metadata": {},
   "source": [
    "## /r/college"
   ]
  },
  {
   "cell_type": "code",
   "execution_count": 24,
   "metadata": {},
   "outputs": [],
   "source": [
    "college = reddit.subreddit('college')"
   ]
  },
  {
   "cell_type": "code",
   "execution_count": 25,
   "metadata": {},
   "outputs": [],
   "source": [
    "#list of hot from thread\n",
    "hot_college = list(college.hot(limit=5000))\n",
    "titles = [post.title for post in hot_college]\n",
    "num_coms = [post.num_comments for post in hot_college]\n",
    "body_text = [post.selftext for post in hot_college]\n",
    "up_votes = [post.ups for post in hot_college]\n",
    "age = [(time.time() - post.created_utc)/60/1440 for post in hot_college]\n",
    "sub = ['college' for post in hot_college]\n",
    "\n",
    "#datetime\n",
    "\n",
    "hot_c_dict = {\n",
    "    'title': titles,\n",
    "    'body': body_text,\n",
    "    'num_comments': num_coms,\n",
    "    'up_votes': up_votes,\n",
    "    'age': age,\n",
    "    'subreddit': sub\n",
    "}\n",
    "\n",
    "hot_college = pd.DataFrame(hot_c_dict)"
   ]
  },
  {
   "cell_type": "code",
   "execution_count": 26,
   "metadata": {},
   "outputs": [],
   "source": [
    "#list of new from thread\n",
    "new_college = list(college.new(limit=5000))\n",
    "titles = [post.title for post in new_college]\n",
    "num_coms = [post.num_comments for post in new_college]\n",
    "body_text = [post.selftext for post in new_college]\n",
    "up_votes = [post.ups for post in new_college]\n",
    "age = [(time.time() - post.created_utc)/60/1440 for post in new_college]\n",
    "sub = ['college' for post in new_college]\n",
    "\n",
    "#datetime\n",
    "\n",
    "new_c_dict = {\n",
    "    'title': titles,\n",
    "    'body': body_text,\n",
    "    'num_comments': num_coms,\n",
    "    'up_votes': up_votes,\n",
    "    'age': age,\n",
    "    'subreddit': sub\n",
    "}\n",
    "\n",
    "new_college = pd.DataFrame(new_c_dict)"
   ]
  },
  {
   "cell_type": "code",
   "execution_count": 27,
   "metadata": {},
   "outputs": [],
   "source": [
    "#list of controversial from thread\n",
    "controversial_college = list(college.controversial(limit=5000))\n",
    "titles = [post.title for post in controversial_college]\n",
    "num_coms = [post.num_comments for post in controversial_college]\n",
    "body_text = [post.selftext for post in controversial_college]\n",
    "up_votes = [post.ups for post in controversial_college]\n",
    "age = [(time.time() - post.created_utc)/60/1440 for post in controversial_college]\n",
    "sub = ['college' for post in controversial_college]\n",
    "\n",
    "#datetime\n",
    "\n",
    "controversial_c_dict = {\n",
    "    'title': titles,\n",
    "    'body': body_text,\n",
    "    'num_comments': num_coms,\n",
    "    'up_votes': up_votes,\n",
    "    'age': age,\n",
    "    'subreddit': sub\n",
    "}\n",
    "\n",
    "controversial_college = pd.DataFrame(controversial_c_dict)"
   ]
  },
  {
   "cell_type": "code",
   "execution_count": 28,
   "metadata": {},
   "outputs": [],
   "source": [
    "#list of top from thread\n",
    "top_college = list(college.top(limit = 5000))\n",
    "titles = [post.title for post in top_college]\n",
    "num_coms = [post.num_comments for post in top_college]\n",
    "body_text = [post.selftext for post in top_college]\n",
    "up_votes = [post.ups for post in top_college]\n",
    "age = [(time.time() - post.created_utc)/60/1440 for post in top_college]\n",
    "sub = ['college' for post in top_college]\n",
    "\n",
    "\n",
    "top_c_dict = {\n",
    "    'title': titles,\n",
    "    'body': body_text,\n",
    "    'num_comments': num_coms,\n",
    "    'up_votes': up_votes,\n",
    "    'age': age,\n",
    "    'subreddit': sub\n",
    "}\n",
    "\n",
    "top_college = pd.DataFrame(top_c_dict)"
   ]
  },
  {
   "cell_type": "code",
   "execution_count": 29,
   "metadata": {},
   "outputs": [],
   "source": [
    "#list of rising from thread\n",
    "rising_college = list(college.rising(limit = 5000))\n",
    "titles = [post.title for post in rising_college]\n",
    "num_coms = [post.num_comments for post in rising_college]\n",
    "body_text = [post.selftext for post in rising_college]\n",
    "up_votes = [post.ups for post in rising_college]\n",
    "age = [(time.time() - post.created_utc)/60/1440 for post in rising_college]\n",
    "sub = ['college' for post in rising_college]\n",
    "\n",
    "rising_c_dict = {\n",
    "    'title': titles,\n",
    "    'body': body_text,\n",
    "    'num_comments': num_coms,\n",
    "    'up_votes': up_votes,\n",
    "    'age': age,\n",
    "    'subreddit': sub\n",
    "}\n",
    "\n",
    "rising_college = pd.DataFrame(rising_c_dict)"
   ]
  },
  {
   "cell_type": "code",
   "execution_count": 30,
   "metadata": {},
   "outputs": [
    {
     "data": {
      "text/html": [
       "<div>\n",
       "<style scoped>\n",
       "    .dataframe tbody tr th:only-of-type {\n",
       "        vertical-align: middle;\n",
       "    }\n",
       "\n",
       "    .dataframe tbody tr th {\n",
       "        vertical-align: top;\n",
       "    }\n",
       "\n",
       "    .dataframe thead th {\n",
       "        text-align: right;\n",
       "    }\n",
       "</style>\n",
       "<table border=\"1\" class=\"dataframe\">\n",
       "  <thead>\n",
       "    <tr style=\"text-align: right;\">\n",
       "      <th></th>\n",
       "      <th>title</th>\n",
       "      <th>body</th>\n",
       "      <th>num_comments</th>\n",
       "      <th>up_votes</th>\n",
       "      <th>age</th>\n",
       "      <th>subreddit</th>\n",
       "    </tr>\n",
       "  </thead>\n",
       "  <tbody>\n",
       "    <tr>\n",
       "      <td>0</td>\n",
       "      <td>Help me get my Instagram squirrel page for our...</td>\n",
       "      <td>https://www.instagram.com/wsu.squirrels/</td>\n",
       "      <td>4</td>\n",
       "      <td>5</td>\n",
       "      <td>0.051712</td>\n",
       "      <td>college</td>\n",
       "    </tr>\n",
       "  </tbody>\n",
       "</table>\n",
       "</div>"
      ],
      "text/plain": [
       "                                               title  \\\n",
       "0  Help me get my Instagram squirrel page for our...   \n",
       "\n",
       "                                       body  num_comments  up_votes       age  \\\n",
       "0  https://www.instagram.com/wsu.squirrels/             4         5  0.051712   \n",
       "\n",
       "  subreddit  \n",
       "0   college  "
      ]
     },
     "execution_count": 30,
     "metadata": {},
     "output_type": "execute_result"
    }
   ],
   "source": [
    "rising_college.head(1)"
   ]
  },
  {
   "cell_type": "code",
   "execution_count": 31,
   "metadata": {},
   "outputs": [],
   "source": [
    "#combined all major subject threads into one main college thread\n",
    "college = hot_college.append([new_college, controversial_college, top_college, rising_college])"
   ]
  },
  {
   "cell_type": "code",
   "execution_count": 32,
   "metadata": {
    "scrolled": true
   },
   "outputs": [
    {
     "data": {
      "text/html": [
       "<div>\n",
       "<style scoped>\n",
       "    .dataframe tbody tr th:only-of-type {\n",
       "        vertical-align: middle;\n",
       "    }\n",
       "\n",
       "    .dataframe tbody tr th {\n",
       "        vertical-align: top;\n",
       "    }\n",
       "\n",
       "    .dataframe thead th {\n",
       "        text-align: right;\n",
       "    }\n",
       "</style>\n",
       "<table border=\"1\" class=\"dataframe\">\n",
       "  <thead>\n",
       "    <tr style=\"text-align: right;\">\n",
       "      <th></th>\n",
       "      <th>title</th>\n",
       "      <th>body</th>\n",
       "      <th>num_comments</th>\n",
       "      <th>up_votes</th>\n",
       "      <th>age</th>\n",
       "      <th>subreddit</th>\n",
       "    </tr>\n",
       "  </thead>\n",
       "  <tbody>\n",
       "    <tr>\n",
       "      <td>0</td>\n",
       "      <td>FAFSA/financial aid verification questions? Ge...</td>\n",
       "      <td>**All questions about federal student aid, the...</td>\n",
       "      <td>458</td>\n",
       "      <td>93</td>\n",
       "      <td>49.889506</td>\n",
       "      <td>college</td>\n",
       "    </tr>\n",
       "    <tr>\n",
       "      <td>1</td>\n",
       "      <td>GET YOUR FLU SHOTS</td>\n",
       "      <td>Seriously guys. Just go to CVS and get the fre...</td>\n",
       "      <td>173</td>\n",
       "      <td>1330</td>\n",
       "      <td>12.850583</td>\n",
       "      <td>college</td>\n",
       "    </tr>\n",
       "    <tr>\n",
       "      <td>2</td>\n",
       "      <td>I did it... I finally did it. You have no idea...</td>\n",
       "      <td></td>\n",
       "      <td>6</td>\n",
       "      <td>51</td>\n",
       "      <td>0.162481</td>\n",
       "      <td>college</td>\n",
       "    </tr>\n",
       "    <tr>\n",
       "      <td>3</td>\n",
       "      <td>Received this email just now... someone should...</td>\n",
       "      <td></td>\n",
       "      <td>0</td>\n",
       "      <td>24</td>\n",
       "      <td>0.171474</td>\n",
       "      <td>college</td>\n",
       "    </tr>\n",
       "    <tr>\n",
       "      <td>4</td>\n",
       "      <td>Would you rather 8am -3pm classes or 12-9pm</td>\n",
       "      <td>I’m currently doing 8-3 and my mental health h...</td>\n",
       "      <td>210</td>\n",
       "      <td>587</td>\n",
       "      <td>0.909599</td>\n",
       "      <td>college</td>\n",
       "    </tr>\n",
       "  </tbody>\n",
       "</table>\n",
       "</div>"
      ],
      "text/plain": [
       "                                               title  \\\n",
       "0  FAFSA/financial aid verification questions? Ge...   \n",
       "1                                 GET YOUR FLU SHOTS   \n",
       "2  I did it... I finally did it. You have no idea...   \n",
       "3  Received this email just now... someone should...   \n",
       "4        Would you rather 8am -3pm classes or 12-9pm   \n",
       "\n",
       "                                                body  num_comments  up_votes  \\\n",
       "0  **All questions about federal student aid, the...           458        93   \n",
       "1  Seriously guys. Just go to CVS and get the fre...           173      1330   \n",
       "2                                                                6        51   \n",
       "3                                                                0        24   \n",
       "4  I’m currently doing 8-3 and my mental health h...           210       587   \n",
       "\n",
       "         age subreddit  \n",
       "0  49.889506   college  \n",
       "1  12.850583   college  \n",
       "2   0.162481   college  \n",
       "3   0.171474   college  \n",
       "4   0.909599   college  "
      ]
     },
     "execution_count": 32,
     "metadata": {},
     "output_type": "execute_result"
    }
   ],
   "source": [
    "college.head(5)"
   ]
  },
  {
   "cell_type": "code",
   "execution_count": 33,
   "metadata": {},
   "outputs": [
    {
     "data": {
      "text/plain": [
       "(3769, 6)"
      ]
     },
     "execution_count": 33,
     "metadata": {},
     "output_type": "execute_result"
    }
   ],
   "source": [
    "college.shape"
   ]
  },
  {
   "cell_type": "code",
   "execution_count": 34,
   "metadata": {},
   "outputs": [],
   "source": [
    "#droped the duplicates from the combined dataframes\n",
    "college_thread = college.drop_duplicates(subset = ['title', 'body'], keep='last')"
   ]
  },
  {
   "cell_type": "code",
   "execution_count": 35,
   "metadata": {},
   "outputs": [
    {
     "data": {
      "text/plain": [
       "(2885, 6)"
      ]
     },
     "execution_count": 35,
     "metadata": {},
     "output_type": "execute_result"
    }
   ],
   "source": [
    "college_thread.shape"
   ]
  },
  {
   "cell_type": "code",
   "execution_count": 36,
   "metadata": {},
   "outputs": [
    {
     "data": {
      "text/html": [
       "<div>\n",
       "<style scoped>\n",
       "    .dataframe tbody tr th:only-of-type {\n",
       "        vertical-align: middle;\n",
       "    }\n",
       "\n",
       "    .dataframe tbody tr th {\n",
       "        vertical-align: top;\n",
       "    }\n",
       "\n",
       "    .dataframe thead th {\n",
       "        text-align: right;\n",
       "    }\n",
       "</style>\n",
       "<table border=\"1\" class=\"dataframe\">\n",
       "  <thead>\n",
       "    <tr style=\"text-align: right;\">\n",
       "      <th></th>\n",
       "      <th>title</th>\n",
       "      <th>body</th>\n",
       "      <th>num_comments</th>\n",
       "      <th>up_votes</th>\n",
       "      <th>age</th>\n",
       "      <th>subreddit</th>\n",
       "    </tr>\n",
       "  </thead>\n",
       "  <tbody>\n",
       "    <tr>\n",
       "      <td>0</td>\n",
       "      <td>FAFSA/financial aid verification questions? Ge...</td>\n",
       "      <td>**All questions about federal student aid, the...</td>\n",
       "      <td>458</td>\n",
       "      <td>93</td>\n",
       "      <td>49.889506</td>\n",
       "      <td>college</td>\n",
       "    </tr>\n",
       "    <tr>\n",
       "      <td>3</td>\n",
       "      <td>Do you buy the parking permits?</td>\n",
       "      <td>This is geared more towards CSUs but is it act...</td>\n",
       "      <td>0</td>\n",
       "      <td>1</td>\n",
       "      <td>0.015425</td>\n",
       "      <td>college</td>\n",
       "    </tr>\n",
       "    <tr>\n",
       "      <td>6</td>\n",
       "      <td>Anybody else feel this way?</td>\n",
       "      <td>I’ve always been considered the “smart kid”. I...</td>\n",
       "      <td>0</td>\n",
       "      <td>1</td>\n",
       "      <td>0.022798</td>\n",
       "      <td>college</td>\n",
       "    </tr>\n",
       "    <tr>\n",
       "      <td>8</td>\n",
       "      <td>How much partner work is there in college?</td>\n",
       "      <td>Please say none</td>\n",
       "      <td>5</td>\n",
       "      <td>1</td>\n",
       "      <td>0.043457</td>\n",
       "      <td>college</td>\n",
       "    </tr>\n",
       "    <tr>\n",
       "      <td>10</td>\n",
       "      <td>Is my college GPA screwed?</td>\n",
       "      <td>I need some general GPA advice. My major is Ki...</td>\n",
       "      <td>1</td>\n",
       "      <td>1</td>\n",
       "      <td>0.063608</td>\n",
       "      <td>college</td>\n",
       "    </tr>\n",
       "  </tbody>\n",
       "</table>\n",
       "</div>"
      ],
      "text/plain": [
       "                                                title  \\\n",
       "0   FAFSA/financial aid verification questions? Ge...   \n",
       "3                     Do you buy the parking permits?   \n",
       "6                         Anybody else feel this way?   \n",
       "8          How much partner work is there in college?   \n",
       "10                         Is my college GPA screwed?   \n",
       "\n",
       "                                                 body  num_comments  up_votes  \\\n",
       "0   **All questions about federal student aid, the...           458        93   \n",
       "3   This is geared more towards CSUs but is it act...             0         1   \n",
       "6   I’ve always been considered the “smart kid”. I...             0         1   \n",
       "8                                     Please say none             5         1   \n",
       "10  I need some general GPA advice. My major is Ki...             1         1   \n",
       "\n",
       "          age subreddit  \n",
       "0   49.889506   college  \n",
       "3    0.015425   college  \n",
       "6    0.022798   college  \n",
       "8    0.043457   college  \n",
       "10   0.063608   college  "
      ]
     },
     "execution_count": 36,
     "metadata": {},
     "output_type": "execute_result"
    }
   ],
   "source": [
    "college_thread.head()"
   ]
  },
  {
   "cell_type": "code",
   "execution_count": 37,
   "metadata": {},
   "outputs": [],
   "source": [
    "college_thread = college_thread.reset_index(drop=True)"
   ]
  },
  {
   "cell_type": "code",
   "execution_count": 38,
   "metadata": {},
   "outputs": [
    {
     "data": {
      "text/html": [
       "<div>\n",
       "<style scoped>\n",
       "    .dataframe tbody tr th:only-of-type {\n",
       "        vertical-align: middle;\n",
       "    }\n",
       "\n",
       "    .dataframe tbody tr th {\n",
       "        vertical-align: top;\n",
       "    }\n",
       "\n",
       "    .dataframe thead th {\n",
       "        text-align: right;\n",
       "    }\n",
       "</style>\n",
       "<table border=\"1\" class=\"dataframe\">\n",
       "  <thead>\n",
       "    <tr style=\"text-align: right;\">\n",
       "      <th></th>\n",
       "      <th>title</th>\n",
       "      <th>body</th>\n",
       "      <th>num_comments</th>\n",
       "      <th>up_votes</th>\n",
       "      <th>age</th>\n",
       "      <th>subreddit</th>\n",
       "    </tr>\n",
       "  </thead>\n",
       "  <tbody>\n",
       "    <tr>\n",
       "      <td>0</td>\n",
       "      <td>FAFSA/financial aid verification questions? Ge...</td>\n",
       "      <td>**All questions about federal student aid, the...</td>\n",
       "      <td>458</td>\n",
       "      <td>93</td>\n",
       "      <td>49.889506</td>\n",
       "      <td>college</td>\n",
       "    </tr>\n",
       "    <tr>\n",
       "      <td>1</td>\n",
       "      <td>Do you buy the parking permits?</td>\n",
       "      <td>This is geared more towards CSUs but is it act...</td>\n",
       "      <td>0</td>\n",
       "      <td>1</td>\n",
       "      <td>0.015425</td>\n",
       "      <td>college</td>\n",
       "    </tr>\n",
       "    <tr>\n",
       "      <td>2</td>\n",
       "      <td>Anybody else feel this way?</td>\n",
       "      <td>I’ve always been considered the “smart kid”. I...</td>\n",
       "      <td>0</td>\n",
       "      <td>1</td>\n",
       "      <td>0.022798</td>\n",
       "      <td>college</td>\n",
       "    </tr>\n",
       "    <tr>\n",
       "      <td>3</td>\n",
       "      <td>How much partner work is there in college?</td>\n",
       "      <td>Please say none</td>\n",
       "      <td>5</td>\n",
       "      <td>1</td>\n",
       "      <td>0.043457</td>\n",
       "      <td>college</td>\n",
       "    </tr>\n",
       "    <tr>\n",
       "      <td>4</td>\n",
       "      <td>Is my college GPA screwed?</td>\n",
       "      <td>I need some general GPA advice. My major is Ki...</td>\n",
       "      <td>1</td>\n",
       "      <td>1</td>\n",
       "      <td>0.063608</td>\n",
       "      <td>college</td>\n",
       "    </tr>\n",
       "  </tbody>\n",
       "</table>\n",
       "</div>"
      ],
      "text/plain": [
       "                                               title  \\\n",
       "0  FAFSA/financial aid verification questions? Ge...   \n",
       "1                    Do you buy the parking permits?   \n",
       "2                        Anybody else feel this way?   \n",
       "3         How much partner work is there in college?   \n",
       "4                         Is my college GPA screwed?   \n",
       "\n",
       "                                                body  num_comments  up_votes  \\\n",
       "0  **All questions about federal student aid, the...           458        93   \n",
       "1  This is geared more towards CSUs but is it act...             0         1   \n",
       "2  I’ve always been considered the “smart kid”. I...             0         1   \n",
       "3                                    Please say none             5         1   \n",
       "4  I need some general GPA advice. My major is Ki...             1         1   \n",
       "\n",
       "         age subreddit  \n",
       "0  49.889506   college  \n",
       "1   0.015425   college  \n",
       "2   0.022798   college  \n",
       "3   0.043457   college  \n",
       "4   0.063608   college  "
      ]
     },
     "execution_count": 38,
     "metadata": {},
     "output_type": "execute_result"
    }
   ],
   "source": [
    "college_thread.head()"
   ]
  },
  {
   "cell_type": "markdown",
   "metadata": {},
   "source": [
    "After combining the different dataframes under the college. There were 3,755 different posts in the thread. After dropping the duplicates in the the dataframe, there was 2,906 posts"
   ]
  },
  {
   "cell_type": "code",
   "execution_count": 39,
   "metadata": {},
   "outputs": [],
   "source": [
    "#export college thread to csv\n",
    "college_thread.to_csv('./data/college_oct17', encoding='utf-8', index=False)"
   ]
  }
 ],
 "metadata": {
  "kernelspec": {
   "display_name": "Python 3",
   "language": "python",
   "name": "python3"
  },
  "language_info": {
   "codemirror_mode": {
    "name": "ipython",
    "version": 3
   },
   "file_extension": ".py",
   "mimetype": "text/x-python",
   "name": "python",
   "nbconvert_exporter": "python",
   "pygments_lexer": "ipython3",
   "version": "3.7.4"
  }
 },
 "nbformat": 4,
 "nbformat_minor": 2
}
